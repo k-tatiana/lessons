{
 "cells": [
  {
   "cell_type": "code",
   "execution_count": 2,
   "metadata": {
    "collapsed": true
   },
   "outputs": [],
   "source": [
    "#Дан файл в каждой строке которого записано число. \n",
    "#Написать функцию которая на вход принимает путь к файлу и выводит на консоль сумму чисел из файла\n",
    "def file_sum(path):\n",
    "    with open(path, 'r') as fl:\n",
    "        for l in fl.readlines():\n",
    "            yield l"
   ]
  },
  {
   "cell_type": "code",
   "execution_count": 4,
   "metadata": {},
   "outputs": [
    {
     "name": "stdout",
     "output_type": "stream",
     "text": [
      "68838\n",
      "['3', '5', '3', '7', '3', '5', '7', '783', '453', '67568', '1']\n",
      "68838\n"
     ]
    }
   ],
   "source": [
    "s = []\n",
    "s2 = ''\n",
    "s4 = 0\n",
    "for l in file_sum('example.txt'):\n",
    "    s2+=l\n",
    "    s4+=int(l)\n",
    "s = s2.split('\\n')\n",
    "print(s4)\n",
    "print(s)\n",
    "\n",
    "a=0\n",
    "for i in s:\n",
    "    a += int(i)\n",
    "print(a)\n"
   ]
  },
  {
   "cell_type": "code",
   "execution_count": null,
   "metadata": {
    "collapsed": true
   },
   "outputs": [],
   "source": [
    "#Написать функцию которая на вход принимает путь к файлу, и 2 целых числа m и n. \n",
    "#В файл записать m случайно регенерированных текстовых строк длиной n"
   ]
  },
  {
   "cell_type": "code",
   "execution_count": 5,
   "metadata": {
    "collapsed": true
   },
   "outputs": [],
   "source": [
    "def generate_string(path, m, n):\n",
    "    import random\n",
    "    import string\n",
    "    t = 0\n",
    "    with open(path, 'w') as f:\n",
    "        while t<m:\n",
    "            s = ''.join(random.choice(string.ascii_lowercase) for i in range(n))\n",
    "            print(s)\n",
    "            t+=1"
   ]
  },
  {
   "cell_type": "code",
   "execution_count": 6,
   "metadata": {},
   "outputs": [
    {
     "name": "stdout",
     "output_type": "stream",
     "text": [
      "wgjad\n",
      "vlugq\n",
      "zvtaq\n",
      "ighvh\n",
      "dllau\n",
      "wgedi\n",
      "uywmo\n",
      "kggkm\n",
      "czzip\n",
      "dlaio\n"
     ]
    }
   ],
   "source": [
    "generate_string('task2.txt',10,5)"
   ]
  },
  {
   "cell_type": "code",
   "execution_count": null,
   "metadata": {
    "collapsed": true
   },
   "outputs": [],
   "source": [
    "#Написать функцию is_year_leap, принимающую 1 аргумент  год, и возвращающую True, если год високосный, и False иначе."
   ]
  },
  {
   "cell_type": "code",
   "execution_count": 7,
   "metadata": {
    "collapsed": true
   },
   "outputs": [],
   "source": [
    "def is_year_leap(y):\n",
    "    \"\"\"Bозвращает True если год високосный, возвращает False в обратном случае\"\"\"\n",
    "    t = y%4 #Те года, которые не будут кратны 4-м, не относятся к високосным\n",
    "    t1 = y%100 #Если год делится на 100 без остатка, этот год не будет високосным\n",
    "    t2 = y%400 #Если оно разделится без остатка на 400, значит год, всё-таки, високосный!\n",
    "    if t == 0:\n",
    "        return True\n",
    "    else:\n",
    "        if t1 == 0:\n",
    "            return False\n",
    "        else:\n",
    "            if t2 == 0:\n",
    "                return True\n",
    "            else:\n",
    "                return False"
   ]
  },
  {
   "cell_type": "code",
   "execution_count": 8,
   "metadata": {},
   "outputs": [
    {
     "data": {
      "text/plain": [
       "True"
      ]
     },
     "execution_count": 8,
     "metadata": {},
     "output_type": "execute_result"
    }
   ],
   "source": [
    "is_year_leap(2016)"
   ]
  },
  {
   "cell_type": "code",
   "execution_count": 9,
   "metadata": {},
   "outputs": [
    {
     "name": "stdout",
     "output_type": "stream",
     "text": [
      "Help on function is_year_leap in module __main__:\n",
      "\n",
      "is_year_leap(y)\n",
      "    Bозвращает True если год високосный, возвращает False в обратном случае\n",
      "\n"
     ]
    }
   ],
   "source": [
    "help(is_year_leap)"
   ]
  },
  {
   "cell_type": "code",
   "execution_count": null,
   "metadata": {
    "collapsed": true
   },
   "outputs": [],
   "source": [
    "#Написать функцию square, принимающую 1 аргумент — сторону квадрата, и возвращающую 3 значения (с помощью кортежа): \n",
    "#периметр квадрата, площадь квадрата и диагональ квадрата."
   ]
  },
  {
   "cell_type": "code",
   "execution_count": 10,
   "metadata": {
    "collapsed": true
   },
   "outputs": [],
   "source": [
    "def square(a):\n",
    "    \"\"\"Определение параметров квадрата: периметр, площадь, диагональ\"\"\"\n",
    "    kwadratt = tuple()\n",
    "    kwadratt=4*a, a**2, a*(2**0.5)\n",
    "    print(kwadratt)"
   ]
  },
  {
   "cell_type": "code",
   "execution_count": 11,
   "metadata": {},
   "outputs": [
    {
     "name": "stdout",
     "output_type": "stream",
     "text": [
      "(4, 1, 1.4142135623730951)\n"
     ]
    }
   ],
   "source": [
    "square(1)"
   ]
  },
  {
   "cell_type": "code",
   "execution_count": null,
   "metadata": {
    "collapsed": true
   },
   "outputs": [],
   "source": [
    "#Написать функцию is_prime, принимающую 1 аргумент — число от 0 до 1000, \n",
    "#и возвращающую True, если оно простое, и False - иначе."
   ]
  },
  {
   "cell_type": "code",
   "execution_count": null,
   "metadata": {
    "collapsed": true
   },
   "outputs": [],
   "source": [
    "def is_prime(a):\n",
    "    \"\"\"нужно перебрать простые (либо все) множители от 7 до √N и попытаться произвести деление. \n",
    "    N окажется простым, если ни на один из этих делителей не разделится нацело.\"\"\"\n",
    "    try:\n",
    "        num = int(a)\n",
    "    except ValueError:\n",
    "        print(\"Вы должны ввести число, попробуйте снова.\")\n",
    "    if a%1==0:\n",
    "        i = 2\n",
    "        while i < a:\n",
    "            if a%i == 0:\n",
    "                r = i,\n",
    "                i +=1\n",
    "        print(r)\n",
    "    else:\n",
    "        print(\"Вы должны ввести целое число, попробуйте снова.\")\n",
    "print(\"Вот так\")"
   ]
  },
  {
   "cell_type": "code",
   "execution_count": null,
   "metadata": {
    "collapsed": true
   },
   "outputs": [],
   "source": [
    "is_prime(5)"
   ]
  },
  {
   "cell_type": "code",
   "execution_count": null,
   "metadata": {
    "collapsed": true
   },
   "outputs": [],
   "source": [
    "def palabrota():\n",
    "    print('Joder!')"
   ]
  },
  {
   "cell_type": "code",
   "execution_count": null,
   "metadata": {
    "collapsed": true
   },
   "outputs": [],
   "source": [
    "palabrota()"
   ]
  },
  {
   "cell_type": "code",
   "execution_count": null,
   "metadata": {
    "collapsed": true
   },
   "outputs": [],
   "source": []
  }
 ],
 "metadata": {
  "kernelspec": {
   "display_name": "Python 3",
   "language": "python",
   "name": "python3"
  },
  "language_info": {
   "codemirror_mode": {
    "name": "ipython",
    "version": 3
   },
   "file_extension": ".py",
   "mimetype": "text/x-python",
   "name": "python",
   "nbconvert_exporter": "python",
   "pygments_lexer": "ipython3",
   "version": "3.6.2"
  }
 },
 "nbformat": 4,
 "nbformat_minor": 2
}
