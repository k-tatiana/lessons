{
 "cells": [
  {
   "cell_type": "code",
   "execution_count": 1,
   "metadata": {
    "collapsed": true
   },
   "outputs": [],
   "source": [
    "# Написать класс человек в котором можно хранить имя и фамилию человека, возраст, менять и получать их. \n",
    "# Возраст должен быть между 0 и 120 годами"
   ]
  },
  {
   "cell_type": "code",
   "execution_count": 4,
   "metadata": {},
   "outputs": [],
   "source": [
    "class Persona:\n",
    "    def __init__(self, name, surname, age):\n",
    "        self.name = name\n",
    "        self.surname = surname\n",
    "        if age > 120 or age < 0:\n",
    "            print('Возраст должен быть в пределах от 0 до 120 лет. Определите экземпляр класса заново')\n",
    "        else:\n",
    "            self.age = age"
   ]
  },
  {
   "cell_type": "code",
   "execution_count": 9,
   "metadata": {},
   "outputs": [
    {
     "name": "stdout",
     "output_type": "stream",
     "text": [
      "Возраст должен быть в пределах от 0 до 120 лет. Определите экземпляр класса заново\n"
     ]
    }
   ],
   "source": [
    "persona1 = Persona('Anna', 'Zaytseva', 121)"
   ]
  },
  {
   "cell_type": "code",
   "execution_count": 10,
   "metadata": {},
   "outputs": [
    {
     "ename": "AttributeError",
     "evalue": "'Persona' object has no attribute 'age'",
     "output_type": "error",
     "traceback": [
      "\u001b[1;31m---------------------------------------------------------------------------\u001b[0m",
      "\u001b[1;31mAttributeError\u001b[0m                            Traceback (most recent call last)",
      "\u001b[1;32m<ipython-input-10-9653430cf2d8>\u001b[0m in \u001b[0;36m<module>\u001b[1;34m()\u001b[0m\n\u001b[1;32m----> 1\u001b[1;33m \u001b[0mpersona1\u001b[0m\u001b[1;33m.\u001b[0m\u001b[0mage\u001b[0m\u001b[1;33m\u001b[0m\u001b[0m\n\u001b[0m",
      "\u001b[1;31mAttributeError\u001b[0m: 'Persona' object has no attribute 'age'"
     ]
    }
   ],
   "source": [
    "persona1.age"
   ]
  },
  {
   "cell_type": "code",
   "execution_count": 11,
   "metadata": {
    "collapsed": true
   },
   "outputs": [],
   "source": [
    "# Написать класс у которого будет отдел и зарплата, которые так же задаются. \n",
    "# Сделать поля удачных и неудачных поступков сотрудника которые можно через вызовы методов наращивать. \n",
    "# Реализовать метод считающее итоговую зарплату = зп + 2*(удачные действия) - 3* (неудачные действия)\n",
    "# У менеджера зарплата считается как зп + 4*(удачные действия) - 5* (неудачные действия)"
   ]
  },
  {
   "cell_type": "code",
   "execution_count": 29,
   "metadata": {},
   "outputs": [],
   "source": [
    "class Tribe:\n",
    "    def __init__(self, squad, salary):\n",
    "        self.squad = squad\n",
    "        self.salary = salary\n",
    "        \n",
    "    def salarycalq(self, manager, good, bad):\n",
    "        if manager==False:\n",
    "            print(self.salary + 2 * good - 3 * bad)\n",
    "        else:\n",
    "            print(self.salary + 4*good - 5*bad)"
   ]
  },
  {
   "cell_type": "code",
   "execution_count": 30,
   "metadata": {},
   "outputs": [
    {
     "name": "stdout",
     "output_type": "stream",
     "text": [
      "130\n"
     ]
    }
   ],
   "source": [
    "SomeTribe = Tribe('Somesquad', 100)\n",
    "SomeTribe.salarycalq(True, 10,2)"
   ]
  },
  {
   "cell_type": "code",
   "execution_count": null,
   "metadata": {
    "collapsed": true
   },
   "outputs": [],
   "source": []
  }
 ],
 "metadata": {
  "kernelspec": {
   "display_name": "Python 3",
   "language": "python",
   "name": "python3"
  },
  "language_info": {
   "codemirror_mode": {
    "name": "ipython",
    "version": 3
   },
   "file_extension": ".py",
   "mimetype": "text/x-python",
   "name": "python",
   "nbconvert_exporter": "python",
   "pygments_lexer": "ipython3",
   "version": "3.6.3"
  }
 },
 "nbformat": 4,
 "nbformat_minor": 2
}
